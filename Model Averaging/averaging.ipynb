{
 "cells": [
  {
   "cell_type": "code",
   "execution_count": 1,
   "metadata": {},
   "outputs": [],
   "source": [
    "import pandas as pd\n",
    "import numpy as np\n",
    "import matplotlib.pyplot as plt"
   ]
  },
  {
   "cell_type": "code",
   "execution_count": 48,
   "metadata": {},
   "outputs": [
    {
     "data": {
      "text/plain": [
       "24822.259757377615"
      ]
     },
     "execution_count": 48,
     "metadata": {},
     "output_type": "execute_result"
    }
   ],
   "source": [
    "correct = np.power(10, pd.read_csv(\"../Dataset/testtransfcoor.csv\", sep=\";\")[\"price\"].to_numpy())\n",
    "predictionsINLA = np.power(10, pd.read_csv(\"../Spatial Model - INLA/TestPred.csv\")[\"predicted\"].to_numpy())\n",
    "\n",
    "MSE_INLA = np.mean((correct - predictionsINLA)**2)\n",
    "np.sqrt(MSE_INLA)"
   ]
  },
  {
   "cell_type": "code",
   "execution_count": 37,
   "metadata": {},
   "outputs": [
    {
     "data": {
      "text/plain": [
       "31790.576163894082"
      ]
     },
     "execution_count": 37,
     "metadata": {},
     "output_type": "execute_result"
    }
   ],
   "source": [
    "correct = np.power(10, pd.read_csv(\"../Dataset/testtransf.csv\", sep=\";\")[\"price\"].to_numpy())\n",
    "predictionsLMM = np.power(10, pd.read_csv(\"../Linear Mixed Model/TestPred.csv\")[\"predicted\"].to_numpy())\n",
    "\n",
    "MSE_LMM = np.mean((correct - predictionsLMM) ** 2)\n",
    "np.sqrt(MSE_LMM)"
   ]
  }
 ],
 "metadata": {
  "kernelspec": {
   "display_name": "base",
   "language": "python",
   "name": "python3"
  },
  "language_info": {
   "codemirror_mode": {
    "name": "ipython",
    "version": 3
   },
   "file_extension": ".py",
   "mimetype": "text/x-python",
   "name": "python",
   "nbconvert_exporter": "python",
   "pygments_lexer": "ipython3",
   "version": "3.10.6"
  },
  "orig_nbformat": 4,
  "vscode": {
   "interpreter": {
    "hash": "cafa63dd5c33031e8e471e235761b957007db452540bc9568eb926607efd57b4"
   }
  }
 },
 "nbformat": 4,
 "nbformat_minor": 2
}
